{
 "cells": [
  {
   "cell_type": "markdown",
   "metadata": {},
   "source": [
    "# Twitter Streaming\n",
    "In questo Notebook si riporta la pipeline che si segue per fare streaming di Tweet legati a specifici hashtag ed utenti.\n",
    "\n",
    "Vista la connessione ad un database, si ricorda che è necessario scaricare [MongoDB](https://docs.mongodb.com/manual/installation/) e avere un'istanza attiva per girare il codice."
   ]
  },
  {
   "cell_type": "code",
   "execution_count": null,
   "metadata": {},
   "outputs": [],
   "source": [
    "import json"
   ]
  },
  {
   "cell_type": "markdown",
   "metadata": {},
   "source": [
    "## Creazione del database"
   ]
  },
  {
   "cell_type": "code",
   "execution_count": null,
   "metadata": {},
   "outputs": [],
   "source": [
    "import pymongo\n",
    "from pymongo import MongoClient"
   ]
  },
  {
   "cell_type": "markdown",
   "metadata": {},
   "source": [
    "Specificare a quale host e porta siamo connessi."
   ]
  },
  {
   "cell_type": "code",
   "execution_count": null,
   "metadata": {},
   "outputs": [],
   "source": [
    "client = MongoClient('localhost', 27017)"
   ]
  },
  {
   "cell_type": "code",
   "execution_count": null,
   "metadata": {},
   "outputs": [],
   "source": [
    "db = client.twitter\n",
    "collection_tweet = db.tweets"
   ]
  },
  {
   "cell_type": "markdown",
   "metadata": {},
   "source": [
    "## Definizione dello Streamer\n",
    "\n",
    "Per definire il collettore è necessario ottenere delle credenziali da Twitter. In particolare servono:\n",
    "\n",
    "- consumer_key\n",
    "- consumer_secret\n",
    "- access_token\n",
    "- access_token_secret\n",
    "\n",
    "Per ottenere queste informazioni andare sul sito https://apps.twitter.com/ dove, dichiarando la creazione di un'applicazione, riceverete le credenziali. "
   ]
  },
  {
   "cell_type": "code",
   "execution_count": null,
   "metadata": {},
   "outputs": [],
   "source": [
    "import tweepy\n",
    "from tweepy.streaming import StreamListener\n",
    "from tweepy import OAuthHandler\n",
    "from tweepy import Stream"
   ]
  },
  {
   "cell_type": "code",
   "execution_count": null,
   "metadata": {},
   "outputs": [],
   "source": [
    "# Credenziali Cristina\n",
    "consumer_key = ''\n",
    "consumer_secret = ''\n",
    "\n",
    "access_token = ''\n",
    "access_token_secret = ''\n",
    "\n",
    "auth = OAuthHandler(consumer_key, consumer_secret)\n",
    "auth.set_access_token(access_token, access_token_secret)"
   ]
  },
  {
   "cell_type": "markdown",
   "metadata": {},
   "source": [
    "Inizializziamo l'API. Scegliamo di utilizzare lo streaming API che permette di raccogliere più dati.\n",
    "\n",
    "1. Creazione dello StreamListener\n",
    "2. Creazione dello Stream\n",
    "3. Inizio dello Stream"
   ]
  },
  {
   "cell_type": "code",
   "execution_count": null,
   "metadata": {},
   "outputs": [],
   "source": [
    "class TwitterPAListener(StreamListener):\n",
    "    \"\"\" A listener handles tweets that are received from the stream.\n",
    "    This is a basic listener that just prints received tweets to stdout.\n",
    "    \"\"\"\n",
    "    \n",
    "    def on_data(self, data):\n",
    "        \n",
    "        # Per ogni tweet che arriva programmare il pre-processing del tweet\n",
    "        data = data.replace(\"'\", \"\")\n",
    "        json_tweet = data.replace(\"'\", \"\\\"\")\n",
    "        tweet = json.loads(json_tweet)\n",
    "        #print (tweet)\n",
    "        \n",
    "        # Pre-processing del tweet\n",
    "        # Sentiment\n",
    "        \n",
    "        # Inserire Tweet nel DB\n",
    "        to_db = collection_tweet.insert_one(tweet)\n",
    "        print ('Tweet in db. Id: ', to_db.inserted_id)\n",
    "        \n",
    "        \n",
    "        return True\n",
    "\n",
    "    def on_error(self, status):\n",
    "        print(status)"
   ]
  },
  {
   "cell_type": "markdown",
   "metadata": {},
   "source": [
    "## Scelta dei filtri per lo streaming"
   ]
  },
  {
   "cell_type": "code",
   "execution_count": null,
   "metadata": {},
   "outputs": [],
   "source": [
    "hashtags = ['cialtroni', 'MaVergognatevi', 'MARCIADEIPATRIOTI',\n",
    "            '4novembre', 'IoVotoForzaNuova!', 'RicostruzioneNazionale',\n",
    "            'StatoNuovo', 'statodimerda', 'StopBusinessAccoglienza',\n",
    "           'Rimpatrio', 'ResistenzaEtnica', 'ForzaNuovaOrgoglioNazionale',\n",
    "           'ItaliaagliItaliani', 'ItaliaAgliItaliani!', 'ITALIAAGLIITALIANI!',\n",
    "           'BastaUE', 'ItaliaLiberaeSovrana', 'Bastainciuci', 'Espulsione',\n",
    "           'immigrati', 'foibe', 'BloccoStudentesco', 'BloccoCrew', 'DevotiAllaVittoria',\n",
    "           'senzapaura', 'rivoluzionecivile!', 'radiobandieranera', 'noisiamociochedoniamo',\n",
    "           'raccolta', 'indumenti', 'invernali', 'coperte', 'exIT', 'marciasuRoma', \n",
    "           '28Ottobre', 'BattaglionToscano', 'PerfidaAlbione', 'IoVotoForzaNuova', 'pernondimenticare']\n",
    "           "
   ]
  },
  {
   "cell_type": "code",
   "execution_count": null,
   "metadata": {},
   "outputs": [],
   "source": [
    "# Qui va inserita la lista degli ID\n",
    "lista_utenti = []"
   ]
  },
  {
   "cell_type": "markdown",
   "metadata": {},
   "source": [
    "## Iniziare Stream"
   ]
  },
  {
   "cell_type": "code",
   "execution_count": null,
   "metadata": {},
   "outputs": [],
   "source": [
    "if __name__ == '__main__':\n",
    "    l = TwitterPAListener()\n",
    "    auth = OAuthHandler(consumer_key, consumer_secret)\n",
    "    auth.set_access_token(access_token, access_token_secret)\n",
    "\n",
    "    stream = Stream(auth, l)\n",
    "    # Una volta definita la lista degli id: commentare la linea seguente e scommentare l'altra\n",
    "    stream.filter(track=hashtags)\n",
    "    #stream.filter(track=hashtags, follow=lista_utenti)"
   ]
  },
  {
   "cell_type": "code",
   "execution_count": null,
   "metadata": {},
   "outputs": [],
   "source": []
  }
 ],
 "metadata": {
  "kernelspec": {
   "display_name": "Python 3",
   "language": "python",
   "name": "python3"
  },
  "language_info": {
   "codemirror_mode": {
    "name": "ipython",
    "version": 3
   },
   "file_extension": ".py",
   "mimetype": "text/x-python",
   "name": "python",
   "nbconvert_exporter": "python",
   "pygments_lexer": "ipython3",
   "version": "3.6.4"
  }
 },
 "nbformat": 4,
 "nbformat_minor": 2
}
